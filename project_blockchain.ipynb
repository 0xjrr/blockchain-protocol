{
 "cells": [
  {
   "cell_type": "code",
   "execution_count": 28,
   "metadata": {},
   "outputs": [],
   "source": [
    "import hashlib\n",
    "import time\n",
    "import random\n",
    "from operator import*"
   ]
  },
  {
   "cell_type": "markdown",
   "metadata": {},
   "source": [
    "\n",
    "# Understanding Blockchain: Proof of Work and Merkle Tree"
   ]
  },
  {
   "cell_type": "markdown",
   "metadata": {},
   "source": [
    "## Introduction\n",
    "In this document, we'll explore the fundamental concepts of blockchain technology, focusing on the Proof of Work (PoW) consensus mechanism and the Merkle Tree data structure that underpins the blockchain's transactional integrity. We'll implement these concepts in Python and examine their role in maintaining the security and integrity of a blockchain."
   ]
  },
  {
   "cell_type": "markdown",
   "metadata": {},
   "source": [
    "## Proof of Work (PoW)\n",
    "### Overview\n",
    "Proof of Work (PoW) is a consensus mechanism used in blockchain networks to achieve agreement on the state of the network. It involves solving a computationally intensive puzzle to validate transactions and create new blocks in the blockchain. PoW is used in popular blockchain networks like Bitcoin and Ethereum.\n",
    "\n",
    "### Explanation\n",
    "Imagine you're a miner, and you want to add a block to the blockchain. The block includes a bunch of transactions, and your job is to find a special number called a \"nonce\" that, when combined with other block data, produces a specific pattern when hashed.\n",
    "\n",
    "### Finding the Nonce\n",
    "- You start with the block's data, including the transactions and a previous block's hash.\n",
    "- You also pick a random number called a nonce and combine it with the block's data.\n",
    "- Next, you use a computer to hash this combined data. A hash is like a fingerprint for data – it's unique to each set of data.\n",
    "- If the resulting hash doesn't match the required pattern (usually starting with a certain number of zeros), you try another nonce and repeat the process.\n",
    "- You keep trying different nonces until you find one that produces a hash with the required pattern.\n",
    "### Why It's Important\n",
    "The PoW puzzle is intentionally difficult and time-consuming to solve, but verifying the solution is easy. This ensures that adding a block to the blockchain requires real computational work, making it expensive for someone to tamper with the blockchain's history, but easy for others to verify the work."
   ]
  },
  {
   "cell_type": "markdown",
   "metadata": {},
   "source": [
    "### Implementation\n",
    "We'll begin by implementing the PoW algorithm, including the Block and Blockchain classes.\n"
   ]
  },
  {
   "cell_type": "code",
   "execution_count": null,
   "metadata": {},
   "outputs": [],
   "source": [
    "class Block:\n",
    "    def __init__(self, block_id, previous_hash, transactions, timestamp):\n",
    "        self.block_id = block_id\n",
    "        self.previous_hash = previous_hash\n",
    "        self.transactions = transactions\n",
    "        self.timestamp = timestamp\n",
    "        self.nonce = 0\n",
    "\n",
    "    def compute_hash(self):\n",
    "        return hashlib.sha256((str(self.block_id) + self.previous_hash + str(self.transactions) + str(self.timestamp) + str(self.nonce)).encode()).hexdigest()\n",
    "\n",
    "    def __str__(self):\n",
    "        return f\"\\nBlock ID: {self.block_id}\\nPrevious Hash: {self.previous_hash}\\nTransactions: {self.transactions}\\nTimestamp: {self.timestamp}\\nNonce: {self.nonce}\"\n",
    "\n",
    "\n",
    "class Blockchain:\n",
    "    def __init__(self):\n",
    "        self.chain = []\n",
    "        self.difficulty = 4  # Initial difficulty level\n",
    "        self.target_time_interval = 15  # Target time interval between blocks in seconds\n",
    "        self.block_count_since_adjustment = 0\n",
    "        self.total_time_since_adjustment = 0\n",
    "        # Create genesis block (initial block)\n",
    "        genesis_block = Block(0, \"0\", \"Genesis\", time.time())\n",
    "        self.add_block(genesis_block)\n",
    "\n",
    "    def add_block(self, new_block):\n",
    "        if len(self.chain) > 0:\n",
    "            new_block.previous_hash = self.chain[-1].compute_hash()\n",
    "\n",
    "        # Mine the block with adjusted difficulty\n",
    "        new_block, time_taken = self.mine_block(new_block)\n",
    "\n",
    "        self.chain.append(new_block)\n",
    "        print(\"Block mined successfully.\")\n",
    "        print(\"Time taken:\", time_taken, \"seconds\")\n",
    "\n",
    "        self.block_count_since_adjustment += 1\n",
    "        self.total_time_since_adjustment += time_taken\n",
    "\n",
    "        # Adjust difficulty every multiple of 10 blocks\n",
    "        if self.block_count_since_adjustment % 10 == 0:\n",
    "            self.adjust_difficulty()\n",
    "\n",
    "    def mine_block(self, block):\n",
    "        start_time = time.time()\n",
    "        target = \"0\" * self.difficulty\n",
    "\n",
    "        while block.compute_hash()[:self.difficulty] != target:\n",
    "            block.nonce += 1\n",
    "\n",
    "        end_time = time.time()\n",
    "        time_taken = end_time - start_time\n",
    "\n",
    "        return block, time_taken\n",
    "\n",
    "    def adjust_difficulty(self):\n",
    "        average_time = self.total_time_since_adjustment / self.block_count_since_adjustment\n",
    "\n",
    "        print(\"Average time taken to mine a block:\", average_time, \"seconds\")\n",
    "\n",
    "        buffer = 5  # Buffer time interval\n",
    "\n",
    "        if average_time - 5 < self.target_time_interval:\n",
    "            self.difficulty += 1\n",
    "        elif average_time + 5 > self.target_time_interval:\n",
    "            self.difficulty -= 1\n",
    "\n",
    "        print(\"Difficulty adjusted to:\", self.difficulty)\n",
    "\n",
    "        # Reset counters\n",
    "        self.block_count_since_adjustment = 0\n",
    "        self.total_time_since_adjustment = 0"
   ]
  },
  {
   "cell_type": "markdown",
   "metadata": {},
   "source": [
    "### Usage Example\n",
    "We'll demonstrate the usage of the PoW algorithm by creating a blockchain and adding blocks to it."
   ]
  },
  {
   "cell_type": "code",
   "execution_count": null,
   "metadata": {},
   "outputs": [],
   "source": [
    "blockchain = Blockchain()\n",
    "\n",
    "# Create and add more blocks\n",
    "for i in range(1, 100):\n",
    "    print(\"\\n---------Adding block #\", i, \"---------\")\n",
    "    new_block = Block(i, \"\", \"Transaction data \" + str(i), time.time())\n",
    "    blockchain.add_block(new_block)\n",
    "    print(\"Block #\", i, \" added to the blockchain\", blockchain.chain[-1])"
   ]
  },
  {
   "cell_type": "markdown",
   "metadata": {},
   "source": [
    "## Merkle Tree\n"
   ]
  },
  {
   "cell_type": "markdown",
   "metadata": {},
   "source": [
    "### Overview\n",
    "The Merkle Tree is a data structure used to efficiently organize and verify the integrity of transactions within a block in a blockchain."
   ]
  },
  {
   "cell_type": "markdown",
   "metadata": {},
   "source": [
    "The Merkle Tree significantly reduces the data needed for proving the validity of a transaction in a blockchain.\n",
    "\n",
    "In a blockchain, each block contains a large number of transactions. Without a Merkle Tree, verifying the inclusion of a transaction would require providing all the transactions in the block, which could be computationally expensive and inefficient, especially for large blocks.\n",
    "\n",
    "However, with a Merkle Tree, the proof of inclusion for a transaction requires providing only a subset of hashes from the tree, known as the Merkle path. This path consists of hashes of sibling nodes along the path from the transaction's leaf node to the root of the tree.\n",
    "\n",
    "The length of the Merkle path is logarithmic in the number of transactions in the block. Specifically, if a block contains 𝑛 transactions, the length of the Merkle path is approximately log₂(𝑛).\n",
    "\n",
    "For example, if a block contains 1,000 transactions, the Merkle path would require providing only about 10 hashes (assuming a balanced Merkle Tree). This is a significant reduction compared to providing all 1,000 transactions.\n",
    "\n",
    "Therefore, the Merkle Tree greatly reduces the amount of data needed for proving the validity of a transaction, making blockchain verification more efficient and scalable."
   ]
  },
  {
   "cell_type": "markdown",
   "metadata": {},
   "source": [
    "### Implementation\n",
    "Next, we'll implement the Merkle Tree data structure, including functions for building the tree, retrieving Merkle proofs, and validating proofs."
   ]
  },
  {
   "cell_type": "code",
   "execution_count": 7,
   "metadata": {},
   "outputs": [],
   "source": [
    "class MerkleNode:\n",
    "    def __init__(self, data):\n",
    "        self.data = data\n",
    "        self.hash = hashlib.sha256(data.encode()).hexdigest()\n",
    "        self.left = None\n",
    "        self.right = None\n",
    "\n",
    "class MerkleTree:\n",
    "    def __init__(self, transactions):\n",
    "        self.root = self.build_tree(transactions)\n",
    "\n",
    "    def build_tree(self, transactions):\n",
    "        if len(transactions) == 0:\n",
    "            return None\n",
    "        elif len(transactions) == 1:\n",
    "            return MerkleNode(transactions[0])\n",
    "\n",
    "        mid = len(transactions) // 2\n",
    "        left_subtree = self.build_tree(transactions[:mid])\n",
    "        right_subtree = self.build_tree(transactions[mid:])\n",
    "        \n",
    "        root = MerkleNode(left_subtree.hash + right_subtree.hash)\n",
    "        root.left = left_subtree\n",
    "        root.right = right_subtree\n",
    "\n",
    "        return root\n",
    "\n",
    "    def get_root(self):\n",
    "        return self.root.hash if self.root else None\n",
    "\n",
    "    def pretty_print(self, node, prefix=\"\", is_left=True):\n",
    "        if node is not None:\n",
    "            self.pretty_print(node.right, prefix + (\"│   \" if is_left else \"    \"), False)\n",
    "            print(prefix + (\"└── \" if is_left else \"┌── \") + node.hash)\n",
    "            self.pretty_print(node.left, prefix + (\"    \" if is_left else \"│   \"), True)\n",
    "\n",
    "    def get_proof(self, transaction):\n",
    "        if self.root is None:\n",
    "            return None, []\n",
    "\n",
    "        return self._get_proof_helper(self.root, transaction)\n",
    "\n",
    "    def _get_proof_helper(self, node, transaction):\n",
    "        if node is None:\n",
    "            return None, []\n",
    "\n",
    "        if node.data == transaction:\n",
    "            return node.hash, []\n",
    "\n",
    "        left_hash, left_proof = self._get_proof_helper(node.left, transaction)\n",
    "        if left_hash is not None:\n",
    "            left_proof.append(node.right.hash)\n",
    "            return left_hash, left_proof\n",
    "\n",
    "        right_hash, right_proof = self._get_proof_helper(node.right, transaction)\n",
    "        if right_hash is not None:\n",
    "            right_proof.append(node.left.hash)\n",
    "            return right_hash, right_proof\n",
    "\n",
    "        return None, []"
   ]
  },
  {
   "cell_type": "code",
   "execution_count": 8,
   "metadata": {},
   "outputs": [],
   "source": [
    "def validate_proof(merkle_root_hash, transaction_hash, merkle_path):\n",
    "    if not merkle_path:\n",
    "        return transaction_hash == merkle_root_hash\n",
    "\n",
    "    sibling_hash = merkle_path[0]\n",
    "    computed_hash_1 = hashlib.sha256((transaction_hash + sibling_hash).encode()).hexdigest()\n",
    "    computed_hash_2 = hashlib.sha256((sibling_hash + transaction_hash).encode()).hexdigest()\n",
    "\n",
    "    left_path = validate_proof(merkle_root_hash, computed_hash_2, merkle_path[1:])\n",
    "    right_path = validate_proof(merkle_root_hash, computed_hash_1, merkle_path[1:])\n",
    "\n",
    "    return left_path or right_path"
   ]
  },
  {
   "cell_type": "markdown",
   "metadata": {},
   "source": [
    "### Usage Example\n",
    "We'll demonstrate the usage of the Merkle Tree by constructing a tree from a list of transactions, retrieving a Merkle proof for a transaction, and validating the proof."
   ]
  },
  {
   "cell_type": "code",
   "execution_count": 19,
   "metadata": {},
   "outputs": [
    {
     "name": "stdout",
     "output_type": "stream",
     "text": [
      "Merkle Root: 1fee6174e1c18c1121343971627630a08ee0f6686c9707b1da6693fa7139ae50\n",
      "\n",
      "Merkle Tree:\n",
      "│                   ┌── 3fd376716c37283599026d83ee37735b98d74b31160ae9fdf471a3a77bee4cc2\n",
      "│               ┌── 0e44cbee5eb0f9cb478baa8c5a833a039644f6b03737e9b508077ae3358aca16\n",
      "│               │   └── 6e08d35bf9f37cd3b7248edce4b7093c0cd272ed311d6a3c3765259a4e231510\n",
      "│           ┌── 4044cd701a75c8d896cd9cdcfa542a4568e488f1fb55d56301337b0f1992ecfc\n",
      "│           │   └── 188201b43d49a2fe9031415f2053c70da18049a58555fce4c805b8873752a613\n",
      "│       ┌── 13cb5054b531e984104f288c2932246c4126722bf424bb74f9260b509ac45b55\n",
      "│       │   │   ┌── e0fd183f2da7e7e023020b293e1a29dbb503852e44b10f1908b1f04f7b86a7b0\n",
      "│       │   └── f8cfc1e06b95bde47b51de1ad7482a7117a81071946f35c59dd325fa91bf3172\n",
      "│       │       └── 13dc09b01344bb4c76726ab74cac547cc06a66c509d1731e14ff464563d52af6\n",
      "│   ┌── 76e94f3377e1201f7b024fc014e31d6af7dd8d1a2f58484459f7f708e934e1f5\n",
      "│   │   │           ┌── 2a75167b999815b6a4191cb78c9049c19ca82ceb3980dc794f35ed64d0e95dbc\n",
      "│   │   │       ┌── 9257407986f4e440e95407c7f8ef76565f7d6372aa600316bd23ae0480708edc\n",
      "│   │   │       │   └── bcf9ad825f013ce61c9bacf5f4c393c50c90571810e7804fcde81b0e25c53340\n",
      "│   │   │   ┌── 836d713af0c1e57fa6dbe9642db692fb7de5989cb470472d37c5a2835ea9283d\n",
      "│   │   │   │   └── f60cfcb38e8703c186d5697d06620632ea14abfbc03f92b2ff99e2d37ae6e2c9\n",
      "│   │   └── 93aab3c46bd143228252b0c98893158e873810332d445cab229ef5b782b734a5\n",
      "│   │       │   ┌── 244cbb4c15aba1b98e8d754c5b47d85944187c5c29e5d57d4af42025c8d05167\n",
      "│   │       └── 481c52b17bd79ccb95443f137ff299960a4718c1d8d2a281e4b458b69a7ce81a\n",
      "│   │           └── 0fbe4ca079c883dd26d53295ee2d091ed9a8551958f003508d1a13851d418fec\n",
      "└── 1fee6174e1c18c1121343971627630a08ee0f6686c9707b1da6693fa7139ae50\n",
      "    │               ┌── 0620fac861009d4d5b44b18c95ee63eefefbb5a0178276f6850c9c65da7455ab\n",
      "    │           ┌── d1d4c2e9dfeb90655e294c3c57cc6c24546e9e19993966c5501e2d11fdc32c78\n",
      "    │           │   └── 4f029880ea69372ae4d659e002cce9b6e87dfc608400d6e93f27a3862214980e\n",
      "    │       ┌── 858c037fc3daa9cf7ecbf7fb30665934ebe6cd5a895fabc5a65cc0b3c80aa73a\n",
      "    │       │   └── 221fb44023518da3908a8cefe5b97d1a42218e5a8316e35a7c4077302f8ed9a2\n",
      "    │   ┌── 781d5db43f7ab4fa437177be60fc0f99558e226d6b1258bf2939bc78c58198d1\n",
      "    │   │   │   ┌── 1fd4bbf0a645748595e05cc79a980bf10d65a17c50f63226e7f39993bc09a9f8\n",
      "    │   │   └── 1c41ec57607b6f4ae062e8b082e3739d15c81551f90603d1628deb5a8ffc590a\n",
      "    │   │       └── 26af218ec2912ce97d8dac14ce69b73e54d935139ad0186cf2cc99f927acfd96\n",
      "    └── f7952c0b63e38bf86ee119c3692b8766fe17b6005fcb20fe48cc441746f2c780\n",
      "        │       ┌── 2435dc0372e12b3f7684fb7093fbe6f6dee79dbff96cc28b1687839ef526e02f\n",
      "        │   ┌── 882ed7f97314e753d0084ea24c386afd3cbd0fb34b3744bfb81d9d3a925cc6e6\n",
      "        │   │   └── 293755ab6384e02d9202d483f2f0250100d786e75fdab1b6f3925b2800ece3cb\n",
      "        └── 0cf77e26eb4a27047852cf39e3868c7a69ff1109acb9e799ba422d3ac350fb97\n",
      "            │   ┌── 4beace8bdcf9b5b74630eaee2e7f501180e46025ca89b05e7e041fbe953d817a\n",
      "            └── 830b7f324af3ff2b2a47cf7cf5ac825fe8d8034294ea8e8f853a4d3fada893fc\n",
      "                └── bde4693e55a336ff81ab238ce20cae1dd9c8ba03b9b8f43963f5569bf3cf5229\n",
      "\n",
      "Verifying transaction: transaction4\n",
      "\n",
      "Transaction Hash: 2435dc0372e12b3f7684fb7093fbe6f6dee79dbff96cc28b1687839ef526e02f\n",
      "Merkle Path Length: 4 \n",
      " Merkle Path: ['293755ab6384e02d9202d483f2f0250100d786e75fdab1b6f3925b2800ece3cb', '830b7f324af3ff2b2a47cf7cf5ac825fe8d8034294ea8e8f853a4d3fada893fc', '781d5db43f7ab4fa437177be60fc0f99558e226d6b1258bf2939bc78c58198d1', '76e94f3377e1201f7b024fc014e31d6af7dd8d1a2f58484459f7f708e934e1f5']\n",
      "Is Valid: True\n"
     ]
    }
   ],
   "source": [
    "transactions = [f\"transaction{i}\" for i in range(1, 20)]\n",
    "\n",
    "merkle_tree = MerkleTree(transactions)\n",
    "\n",
    "print(\"Merkle Root:\", merkle_tree.get_root())\n",
    "print(\"\\nMerkle Tree:\")\n",
    "merkle_tree.pretty_print(merkle_tree.root)\n",
    "\n",
    "transaction_to_verify = f'transaction{random.randint(1, 20)}'\n",
    "print(\"\\nVerifying transaction:\", transaction_to_verify)\n",
    "transaction_hash, merkle_path = merkle_tree.get_proof(transaction_to_verify)\n",
    "print(\"\\nTransaction Hash:\", transaction_hash)\n",
    "print(\"Merkle Path Length:\", len(merkle_path), \"\\n\",\"Merkle Path:\", merkle_path)\n",
    "\n",
    "is_valid = validate_proof(merkle_tree.get_root(), transaction_hash, merkle_path)\n",
    "print(\"Is Valid:\", is_valid)"
   ]
  },
  {
   "cell_type": "markdown",
   "metadata": {},
   "source": [
    "Here we have a Merkle Tree with 1 000 000 transactions. We will show how to build the tree and how to retrieve the Merkle proof for a specific transaction, and verify the proof with the minimal amount of data needed."
   ]
  },
  {
   "cell_type": "code",
   "execution_count": 22,
   "metadata": {},
   "outputs": [
    {
     "name": "stdout",
     "output_type": "stream",
     "text": [
      "Merkle Root: 61a5161747dd55e52e64756ab03df21d44b6d199887099c76c1144279316a1bb\n",
      "\n",
      "Verifying transaction: transaction98265\n",
      "\n",
      "Transaction Hash: 29f16626cc045c2afd32cdfbfaf3248a50422c86972486b05e245f2d1603127f\n",
      "Merkle Path Length: 20 \n",
      " Merkle Path: ['b9ce4337083c381dada525c7de3472f3aed9ee15e2d5e990ca950a9247782221', 'b6efca1c84d08b1c6f69a56c2a831e0bd3099f5e04d5627ec359317691d963a1', '94e838adc9f77f69f583cd35079f70dd27f53f231146b91b07f7173eac6d5259', '5112850d20cafe25aba55896b9000bbfb9be79c575d9087edd43654ac3f8b67d', '859f39726755e58107f7dd1a63020b129d43cf12384cbb85c5aa717b0b11fa1b', '944ddc1f69506b159ae47f7e1c32b8d9221824a4a0451e202e2086c41d842b17', '5370d7d81eff4b470b32a48e424ec1af6a8cbb7493209cc392648d45e98fe1b1', '392ecfa23bbdc83443e4fac4392e4a15d6784a7d6f05e488bb8b8f281ba47127', '2fa189fa506a9fafa5d7b699134f4ed52bc91348a853722da2ebac786d134db0', 'a1df6a66aa482130113943654558cebadc24226eecc1fac08063d9b00f8af842', '73a33d8680608fd517a0394a423ff7dcb8cb43f69da03e2cbc28fef1b09fe410', '0845940fd5a86454fc406be636948898fef29e48c12d3c2e94802b04c308deee', '0aeb58c9c08613926ab0eb39d0b9b8a1285260ca65afedfdfb0429e24b51f491', '887a6072b45b8142d44924a7226b5f51372875e7fb3fa9ae79087c8898c9182f', '590681e8bc3f5767c6fd62110daa0fcf939343a9d4ac06c4021f03ed2fab81d6', '1cc191bca24ffa18b90570208e968e27d5d4dff4a36cd5f7844d1ad7f9856008', 'e24951cfed2e3e22edc0310c519e630caeae22b5451f62deb1a6c9ae5b45e76d', '646f1b7f9f60ed67c593f8e45de3f721db6cbb8e1e35233af43d859630a30cea', '0ab4cd554c704a5e5b74effa0eb7658cddfbf44e3598682b7b825920eef34c4f', '045232a583506647e4533fe3a9b390fd82416a6eae85968f11f43d6812d507fc']\n",
      "Is Valid: True\n"
     ]
    }
   ],
   "source": [
    "transactions = [f\"transaction{i}\" for i in range(1, 1000000)]\n",
    "\n",
    "merkle_tree = MerkleTree(transactions)\n",
    "\n",
    "print(\"Merkle Root:\", merkle_tree.get_root())\n",
    "\n",
    "transaction_to_verify = f'transaction{random.randint(1, 1000000)}'\n",
    "print(\"\\nVerifying transaction:\", transaction_to_verify)\n",
    "transaction_hash, merkle_path = merkle_tree.get_proof(transaction_to_verify)\n",
    "print(\"\\nTransaction Hash:\", transaction_hash)\n",
    "print(\"Merkle Path Length:\", len(merkle_path), \"\\n\",\"Merkle Path:\", merkle_path)\n",
    "\n",
    "is_valid = validate_proof(merkle_tree.get_root(), transaction_hash, merkle_path)\n",
    "print(\"Is Valid:\", is_valid)\n",
    "\n",
    "\n"
   ]
  },
  {
   "cell_type": "markdown",
   "metadata": {},
   "source": [
    "In this notebook, we created two important parts of blockchain technology: Proof of Work (PoW) and Merkle Trees.\n",
    "\n",
    "Proof of Work (PoW) is like a puzzle that miners solve to add blocks to the blockchain. It's hard to search for a solution but easy to check. This makes it tough for someone to cheat and proves the validity of the chain.\n",
    "\n",
    "Merkle Trees help keep transactions in blocks safe. They organize data efficiently, so it's easy to check if a transaction is valid.\n"
   ]
  },
  {
   "cell_type": "markdown",
   "metadata": {},
   "source": [
    "Proof of Work (PoW):\n",
    "- Checking the validity of a hash: O(1), because it's a simple comparison.\n",
    "\n",
    "\n",
    "Merkle Trees:\n",
    "- Constructing a Merkle Tree from a list of transactions: O(n), where n is the number of transactions.\n",
    "- Verifying a transaction in a Merkle Tree: O(log n), where n is the number of transactions, because you need to traverse the tree from the leaf to the root."
   ]
  },
  {
   "cell_type": "markdown",
   "metadata": {},
   "source": [
    "# References\n",
    "Nakamoto, S. (2008) \"Bitcoin: A Peer-to-Peer Electronic Cash System.\" https://bitcoin.org/bitcoin.pdf\n",
    "\n",
    "Liu, H., Luo, X., Liu, H. and Xia, X. (2021) \"Merkle Tree: A Fundamental Component of Blockchains\", International Conference on Electronic Information Engineering and Computer Science (EIECS), pp. 556-561, doi: 10.1109/EIECS53707.2021.9588047. https://ieeexplore.ieee.org/document/9588047"
   ]
  }
 ],
 "metadata": {
  "kernelspec": {
   "display_name": "blockchain-protocol-_9ikCzMa",
   "language": "python",
   "name": "python3"
  },
  "language_info": {
   "codemirror_mode": {
    "name": "ipython",
    "version": 3
   },
   "file_extension": ".py",
   "mimetype": "text/x-python",
   "name": "python",
   "nbconvert_exporter": "python",
   "pygments_lexer": "ipython3",
   "version": "3.12.2"
  }
 },
 "nbformat": 4,
 "nbformat_minor": 2
}
